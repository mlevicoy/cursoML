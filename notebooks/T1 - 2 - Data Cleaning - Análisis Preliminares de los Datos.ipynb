{
 "cells": [
  {
   "cell_type": "markdown",
   "id": "43fc00ab",
   "metadata": {},
   "source": [
    "# Resumen de los datos: dimensiones y estructura"
   ]
  },
  {
   "cell_type": "code",
   "execution_count": null,
   "id": "3be3f817",
   "metadata": {},
   "outputs": [],
   "source": [
    "# Mejorar el autocompletado\n",
    "%config IPCompleter.greedy=True\n",
    "%config Completer.use_jedi = False\n",
    "# Importamos las librerías\n",
    "import pandas as pd\n",
    "import os"
   ]
  },
  {
   "cell_type": "code",
   "execution_count": null,
   "id": "bbcff6b0",
   "metadata": {},
   "outputs": [],
   "source": [
    "# Generamos la ruta del archivo a trabajar, tambien se puede colocar una URL al csv\n",
    "mainpath = \"/Users/Manolex/cursoML/datasets\"\n",
    "filename = \"titanic/titanic3.csv\"\n",
    "fullpath = os.path.join(mainpath, filename)\n",
    "data = pd.read_csv(fullpath)"
   ]
  },
  {
   "cell_type": "code",
   "execution_count": null,
   "id": "3740cb57",
   "metadata": {},
   "outputs": [],
   "source": [
    "# 1. Head(): muestra los n primeros elemento del dataframe, por defecto son 5.\n",
    "data.head(10)"
   ]
  },
  {
   "cell_type": "code",
   "execution_count": null,
   "id": "6fe365ed",
   "metadata": {},
   "outputs": [],
   "source": [
    "# 2. tal(): muestra los n últimos elementos del dataframe, por defecto son 5.\n",
    "data.tail()"
   ]
  },
  {
   "cell_type": "code",
   "execution_count": null,
   "id": "3cfd3cce",
   "metadata": {},
   "outputs": [],
   "source": [
    "# 3. shape: muestra la dimensión del dataframe (filas, columnas)\n",
    "data.shape"
   ]
  },
  {
   "cell_type": "code",
   "execution_count": null,
   "id": "c15ecf4c",
   "metadata": {},
   "outputs": [],
   "source": [
    "# 4. columns: muestra las columnas (cabecera)\n",
    "data.columns"
   ]
  },
  {
   "cell_type": "code",
   "execution_count": null,
   "id": "6a4e1a52",
   "metadata": {},
   "outputs": [],
   "source": [
    "# 5. columns.values: muestra las columnas (cabecera)\n",
    "data.columns.values"
   ]
  },
  {
   "cell_type": "code",
   "execution_count": null,
   "id": "ac31413a",
   "metadata": {},
   "outputs": [],
   "source": [
    "# 6. describe(): permite obtener un resumen de las estadísticas básicas\n",
    "# para las variables numéricas\n",
    "data.describe()"
   ]
  },
  {
   "cell_type": "code",
   "execution_count": null,
   "id": "0f271b9e",
   "metadata": {},
   "outputs": [],
   "source": [
    "# 7. dtypes: indica el tipo de datos que es cada columna\n",
    "data.dtypes"
   ]
  },
  {
   "cell_type": "code",
   "execution_count": null,
   "id": "737a7452",
   "metadata": {},
   "outputs": [],
   "source": [
    "    "
   ]
  },
  {
   "cell_type": "code",
   "execution_count": null,
   "id": "8a3d1896",
   "metadata": {},
   "outputs": [],
   "source": []
  },
  {
   "cell_type": "code",
   "execution_count": null,
   "id": "3d2bdffa",
   "metadata": {},
   "outputs": [],
   "source": []
  },
  {
   "cell_type": "code",
   "execution_count": null,
   "id": "ec4030dd",
   "metadata": {},
   "outputs": [],
   "source": []
  }
 ],
 "metadata": {
  "kernelspec": {
   "display_name": "Python 3 (ipykernel)",
   "language": "python",
   "name": "python3"
  },
  "language_info": {
   "codemirror_mode": {
    "name": "ipython",
    "version": 3
   },
   "file_extension": ".py",
   "mimetype": "text/x-python",
   "name": "python",
   "nbconvert_exporter": "python",
   "pygments_lexer": "ipython3",
   "version": "3.9.7"
  }
 },
 "nbformat": 4,
 "nbformat_minor": 5
}
