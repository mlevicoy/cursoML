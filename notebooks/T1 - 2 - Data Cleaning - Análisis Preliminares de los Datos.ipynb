{
 "cells": [
  {
   "cell_type": "markdown",
   "id": "43fc00ab",
   "metadata": {},
   "source": [
    "# Resumen de los datos: dimensiones y estructura"
   ]
  },
  {
   "cell_type": "code",
   "execution_count": null,
   "id": "3be3f817",
   "metadata": {},
   "outputs": [],
   "source": [
    "# Mejorar el autocompletado\n",
    "%config IPCompleter.greedy=True\n",
    "%config Completer.use_jedi = False\n",
    "# Importamos las librerías\n",
    "import pandas as pd\n",
    "import os"
   ]
  },
  {
   "cell_type": "code",
   "execution_count": null,
   "id": "bbcff6b0",
   "metadata": {},
   "outputs": [],
   "source": [
    "# Generamos la ruta del archivo a trabajar, tambien se puede colocar una URL al csv\n",
    "mainpath = \"/Users/Usuario/cursoML/datasets\"\n",
    "#mainpath = \"/Users/Manolex/cursoML/datasets\"\n",
    "filename = \"titanic/titanic3.csv\"\n",
    "fullpath = os.path.join(mainpath, filename)\n",
    "data = pd.read_csv(fullpath)"
   ]
  },
  {
   "cell_type": "code",
   "execution_count": null,
   "id": "3740cb57",
   "metadata": {},
   "outputs": [],
   "source": [
    "# 1. Head(): muestra los n primeros elemento del dataframe, por defecto son 5.\n",
    "data.head(10)"
   ]
  },
  {
   "cell_type": "code",
   "execution_count": null,
   "id": "6fe365ed",
   "metadata": {},
   "outputs": [],
   "source": [
    "# 2. tal(): muestra los n últimos elementos del dataframe, por defecto son 5.\n",
    "data.tail()"
   ]
  },
  {
   "cell_type": "code",
   "execution_count": null,
   "id": "3cfd3cce",
   "metadata": {},
   "outputs": [],
   "source": [
    "# 3. shape: muestra la dimensión del dataframe (filas, columnas)\n",
    "data.shape"
   ]
  },
  {
   "cell_type": "code",
   "execution_count": null,
   "id": "c15ecf4c",
   "metadata": {},
   "outputs": [],
   "source": [
    "# 4. columns: muestra las columnas (cabecera)\n",
    "data.columns"
   ]
  },
  {
   "cell_type": "code",
   "execution_count": null,
   "id": "6a4e1a52",
   "metadata": {},
   "outputs": [],
   "source": [
    "# 5. columns.values: muestra las columnas (cabecera)\n",
    "data.columns.values"
   ]
  },
  {
   "cell_type": "code",
   "execution_count": null,
   "id": "ac31413a",
   "metadata": {},
   "outputs": [],
   "source": [
    "# 6. describe(): permite obtener un resumen de las estadísticas básicas\n",
    "# para las variables numéricas\n",
    "data.describe()"
   ]
  },
  {
   "cell_type": "code",
   "execution_count": null,
   "id": "0f271b9e",
   "metadata": {},
   "outputs": [],
   "source": [
    "# 7. dtypes: indica el tipo de datos que es cada columna\n",
    "data.dtypes"
   ]
  },
  {
   "cell_type": "code",
   "execution_count": null,
   "id": "737a7452",
   "metadata": {},
   "outputs": [],
   "source": [
    "# 8. isnull: muestra verdadero los NaN de una columna\n",
    "pd.isnull(data[\"body\"])"
   ]
  },
  {
   "cell_type": "code",
   "execution_count": null,
   "id": "c056afdf",
   "metadata": {},
   "outputs": [],
   "source": [
    "# 9. notnull: muestra verdadero los no NaN de una columna\n",
    "pd.notnull(data[\"body\"])"
   ]
  },
  {
   "cell_type": "code",
   "execution_count": null,
   "id": "bb33d303",
   "metadata": {},
   "outputs": [],
   "source": [
    "# 10. Cuenta la cantidad de elementos nulos (NaN) de una columna\n",
    "pd.isnull(data[\"body\"]).values.ravel().sum()"
   ]
  },
  {
   "cell_type": "code",
   "execution_count": null,
   "id": "fdcd1810",
   "metadata": {},
   "outputs": [],
   "source": [
    "# 11. Cuenta la cantidad de elementos no nulos de una columna\n",
    "pd.notnull(data[\"body\"]).values.ravel().sum()"
   ]
  },
  {
   "cell_type": "markdown",
   "id": "cd9775a1",
   "metadata": {},
   "source": [
    "Los valores faltantes en un DataFrame pueden venir por dos razones:\n",
    "* **Extracción de los datos**: Incompatibilidad con la base de datos o tipo de datos\n",
    "  provoca que existan errores al extraer la información.\n",
    "* **Recolección de los datos**: Por ejemplo, datos personales o sencibles las personas\n",
    "  no quieren entregar y esos campos quedan vacios."
   ]
  },
  {
   "cell_type": "markdown",
   "id": "a539804f",
   "metadata": {},
   "source": [
    "### Borrado de valores que faltan (puede ser la fila o la columna) "
   ]
  },
  {
   "cell_type": "code",
   "execution_count": null,
   "id": "e7bc9b69",
   "metadata": {},
   "outputs": [],
   "source": [
    "# axis en 0 borra la fila y en 1 la columna\n",
    "# how en all borra todas las filas o columnas siempre que todo sea NaN\n",
    "# how en any borra si alguna de las filas o columna es NaN\n",
    "data.dropna(axis=0, how=\"all\")"
   ]
  },
  {
   "cell_type": "code",
   "execution_count": null,
   "id": "9bd474a1",
   "metadata": {},
   "outputs": [],
   "source": [
    "data2 = data"
   ]
  },
  {
   "cell_type": "code",
   "execution_count": null,
   "id": "91decd43",
   "metadata": {},
   "outputs": [],
   "source": [
    "data2.dropna(axis=0, how=\"any\")"
   ]
  },
  {
   "cell_type": "markdown",
   "id": "521b09a0",
   "metadata": {},
   "source": [
    "### Computo de los valores faltantes (reemplazar valores faltantes) "
   ]
  },
  {
   "cell_type": "code",
   "execution_count": null,
   "id": "23796912",
   "metadata": {},
   "outputs": [],
   "source": [
    "# Se puede rellenar con 0, con string, con promedio, todo depende del caso\n",
    "data3 = data"
   ]
  },
  {
   "cell_type": "code",
   "execution_count": null,
   "id": "e15d1045",
   "metadata": {},
   "outputs": [],
   "source": [
    "data3.fillna(0)"
   ]
  },
  {
   "cell_type": "code",
   "execution_count": null,
   "id": "b3964bf6",
   "metadata": {},
   "outputs": [],
   "source": [
    "data4 = data"
   ]
  },
  {
   "cell_type": "code",
   "execution_count": null,
   "id": "28d2557c",
   "metadata": {},
   "outputs": [],
   "source": [
    "data4.fillna(\"Desconocido\")"
   ]
  },
  {
   "cell_type": "code",
   "execution_count": null,
   "id": "b46418a0",
   "metadata": {},
   "outputs": [],
   "source": [
    "# La opción más utilizada es decidir por columna dependiendo de su tipo de dato\n",
    "# Para que los cambios queden guardados hay que sobrescribir\n",
    "data5 = data"
   ]
  },
  {
   "cell_type": "code",
   "execution_count": null,
   "id": "29c104c6",
   "metadata": {},
   "outputs": [],
   "source": [
    "data5[\"body\"] = data5[\"body\"].fillna(0)\n",
    "data5[\"home.dest\"] = data5[\"home.dest\"].fillna(\"Desconocido\")"
   ]
  },
  {
   "cell_type": "code",
   "execution_count": null,
   "id": "edd15d7b",
   "metadata": {},
   "outputs": [],
   "source": [
    "data5.tail()"
   ]
  },
  {
   "cell_type": "code",
   "execution_count": null,
   "id": "33172198",
   "metadata": {},
   "outputs": [],
   "source": [
    "# Otra opción igual utilizada es sustituir por la medio, la mediana\n",
    "# o algunas funciones lambda predefinidas\n",
    "data5[\"age\"].fillna(data[\"age\"].mean())"
   ]
  },
  {
   "cell_type": "code",
   "execution_count": null,
   "id": "e931c16a",
   "metadata": {},
   "outputs": [],
   "source": [
    "# Se pueden usar los métodos ffill que ocupa el primer valor conocido hacia arriba\n",
    "# o el método backfill que ocupa el primer valor conocido hacia abajo\n",
    "data5[\"age\"].fillna(method=\"ffill\")\n",
    "data5[\"age\"].fillna(method=\"backfill\")"
   ]
  },
  {
   "cell_type": "code",
   "execution_count": null,
   "id": "2b925f85",
   "metadata": {},
   "outputs": [],
   "source": []
  },
  {
   "cell_type": "code",
   "execution_count": null,
   "id": "c5fca1e9",
   "metadata": {},
   "outputs": [],
   "source": []
  },
  {
   "cell_type": "code",
   "execution_count": null,
   "id": "4dd6493a",
   "metadata": {},
   "outputs": [],
   "source": []
  },
  {
   "cell_type": "code",
   "execution_count": null,
   "id": "f4b10154",
   "metadata": {},
   "outputs": [],
   "source": []
  },
  {
   "cell_type": "code",
   "execution_count": null,
   "id": "e6188cd8",
   "metadata": {},
   "outputs": [],
   "source": []
  },
  {
   "cell_type": "code",
   "execution_count": null,
   "id": "74103c84",
   "metadata": {},
   "outputs": [],
   "source": []
  },
  {
   "cell_type": "code",
   "execution_count": null,
   "id": "8a3d1896",
   "metadata": {},
   "outputs": [],
   "source": []
  },
  {
   "cell_type": "code",
   "execution_count": null,
   "id": "3d2bdffa",
   "metadata": {},
   "outputs": [],
   "source": []
  },
  {
   "cell_type": "code",
   "execution_count": null,
   "id": "ec4030dd",
   "metadata": {},
   "outputs": [],
   "source": []
  }
 ],
 "metadata": {
  "kernelspec": {
   "display_name": "Python 3 (ipykernel)",
   "language": "python",
   "name": "python3"
  },
  "language_info": {
   "codemirror_mode": {
    "name": "ipython",
    "version": 3
   },
   "file_extension": ".py",
   "mimetype": "text/x-python",
   "name": "python",
   "nbconvert_exporter": "python",
   "pygments_lexer": "ipython3",
   "version": "3.9.7"
  }
 },
 "nbformat": 4,
 "nbformat_minor": 5
}
