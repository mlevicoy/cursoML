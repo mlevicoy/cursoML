{
 "cells": [
  {
   "cell_type": "code",
   "execution_count": 101,
   "id": "71185cff",
   "metadata": {},
   "outputs": [],
   "source": [
    "# Mejorar el autocompletado\n",
    "%config IPCompleter.greedy=True\n",
    "%config Completer.use_jedi = False"
   ]
  },
  {
   "cell_type": "code",
   "execution_count": 102,
   "id": "8890b44c",
   "metadata": {},
   "outputs": [],
   "source": [
    "# Importamos las librerías\n",
    "import pandas as pd\n",
    "import urllib3\n",
    "import os"
   ]
  },
  {
   "cell_type": "code",
   "execution_count": 103,
   "id": "b9f6bb4e",
   "metadata": {},
   "outputs": [],
   "source": [
    "# Dirección donde se obtienen los datos\n",
    "medals_url = \"http://winterolympicsmedals.com/medals.csv\""
   ]
  },
  {
   "cell_type": "code",
   "execution_count": 104,
   "id": "1e5d5138",
   "metadata": {
    "scrolled": true
   },
   "outputs": [],
   "source": [
    "def downloadfromurl(url, filename, mainpath, sep=\",\", delim=\"\\n\", enc=\"utf-8\", pet=\"GET\"):\n",
    "    # Extraemos la información\n",
    "    http = urllib3.PoolManager()\n",
    "    r = http.request(pet, url)\n",
    "    response = r.data\n",
    "    # Pasamos de binario a string\n",
    "    response_str = response.decode(encoding=enc)\n",
    "    # Generamos el arreglo con toda las filas\n",
    "    info_array = response_str.strip().split(delim)\n",
    "    # Generamos el array con la primera fila (titulos), separando por coma\n",
    "    cols = info_array[0].strip().split(sep)\n",
    "    # Eliminamos el primer elemento de las filas, son los titulos\n",
    "    info_array.pop(0)\n",
    "    print(\"El estado de la operación es: {0}\".format(r.status))\n",
    "    print(\"La cantidad de columnas son: {0}\".format(len(cols)))    \n",
    "    # Diccionario vacio\n",
    "    main_dict = {}\n",
    "    contador = 0\n",
    "    # Recorremos el array cols y generamos las llaves del diccionario\n",
    "    # Cada llave posee un array de valores, por ahora vacio\n",
    "    for col in cols:\n",
    "        main_dict[col] = []\n",
    "    # Recorremos los dos array para guardar los valores en el diccionario\n",
    "    for line in info_array:\n",
    "        valores = line.strip().split(\",\")\n",
    "        for i in range(len(cols)):\n",
    "            main_dict[cols[i]].append(valores[i])        \n",
    "        contador += 1\n",
    "    print(\"La cantidad de filas son: {0}\".format(contador))\n",
    "    # Creamos el DataFrame\n",
    "    dataframe_medals = pd.DataFrame(main_dict)\n",
    "    # Guardamos en diferentes formatos\n",
    "    fullpath = os.path.join(mainpath, filename)\n",
    "    dataframe_medals.to_csv(fullpath + \".csv\")\n",
    "    dataframe_medals.to_json(fullpath + \".json\")\n",
    "    dataframe_medals.to_excel(fullpath + \".xlsx\")\n",
    "    print(\"Los ficheros se guardaron correctamente en: {0}\".format(fullpath))\n",
    "    return dataframe_medals"
   ]
  },
  {
   "cell_type": "code",
   "execution_count": 105,
   "id": "caa7e4b7",
   "metadata": {},
   "outputs": [
    {
     "name": "stdout",
     "output_type": "stream",
     "text": [
      "El estado de la operación es: 200\n",
      "La cantidad de columnas son: 8\n",
      "La cantidad de filas son: 2311\n",
      "Los ficheros se guardaron correctamente en: /Users/Manolex/cursoML/datasets\\athletes/descarga_medallas\n",
      "   Year      City       Sport      Discipline  NOC       Event Event gender  \\\n",
      "0  1924  Chamonix     Skating  Figure skating  AUT  individual            M   \n",
      "1  1924  Chamonix     Skating  Figure skating  AUT  individual            W   \n",
      "2  1924  Chamonix     Skating  Figure skating  AUT       pairs            X   \n",
      "3  1924  Chamonix   Bobsleigh       Bobsleigh  BEL    four-man            M   \n",
      "4  1924  Chamonix  Ice Hockey      Ice Hockey  CAN  ice hockey            M   \n",
      "\n",
      "    Medal  \n",
      "0  Silver  \n",
      "1    Gold  \n",
      "2    Gold  \n",
      "3  Bronze  \n",
      "4    Gold  \n"
     ]
    }
   ],
   "source": [
    "# Llamamos a la función\n",
    "df = downloadfromurl(medals_url, \"athletes/descarga_medallas\", \"/Users/Manolex/cursoML/datasets\")\n",
    "print(df.head())"
   ]
  },
  {
   "cell_type": "code",
   "execution_count": null,
   "id": "e2519ddc",
   "metadata": {},
   "outputs": [],
   "source": []
  },
  {
   "cell_type": "code",
   "execution_count": null,
   "id": "4e020188",
   "metadata": {},
   "outputs": [],
   "source": []
  },
  {
   "cell_type": "code",
   "execution_count": null,
   "id": "76c711e4",
   "metadata": {},
   "outputs": [],
   "source": []
  },
  {
   "cell_type": "code",
   "execution_count": null,
   "id": "f96acb1c",
   "metadata": {},
   "outputs": [],
   "source": []
  },
  {
   "cell_type": "code",
   "execution_count": null,
   "id": "cec9cbf3",
   "metadata": {},
   "outputs": [],
   "source": []
  },
  {
   "cell_type": "code",
   "execution_count": null,
   "id": "595eee37",
   "metadata": {},
   "outputs": [],
   "source": []
  },
  {
   "cell_type": "code",
   "execution_count": null,
   "id": "7b8c75d1",
   "metadata": {},
   "outputs": [],
   "source": []
  },
  {
   "cell_type": "code",
   "execution_count": null,
   "id": "c43d8e05",
   "metadata": {},
   "outputs": [],
   "source": []
  },
  {
   "cell_type": "code",
   "execution_count": null,
   "id": "aa141223",
   "metadata": {},
   "outputs": [],
   "source": []
  },
  {
   "cell_type": "code",
   "execution_count": null,
   "id": "c7fa7ded",
   "metadata": {},
   "outputs": [],
   "source": []
  },
  {
   "cell_type": "code",
   "execution_count": null,
   "id": "c93118e7",
   "metadata": {},
   "outputs": [],
   "source": []
  },
  {
   "cell_type": "code",
   "execution_count": null,
   "id": "1aa15c9d",
   "metadata": {},
   "outputs": [],
   "source": []
  },
  {
   "cell_type": "code",
   "execution_count": null,
   "id": "b35d1164",
   "metadata": {},
   "outputs": [],
   "source": []
  },
  {
   "cell_type": "code",
   "execution_count": null,
   "id": "ef352b52",
   "metadata": {},
   "outputs": [],
   "source": []
  },
  {
   "cell_type": "code",
   "execution_count": null,
   "id": "f641b511",
   "metadata": {},
   "outputs": [],
   "source": []
  },
  {
   "cell_type": "code",
   "execution_count": null,
   "id": "10cdf3d9",
   "metadata": {},
   "outputs": [],
   "source": []
  },
  {
   "cell_type": "code",
   "execution_count": null,
   "id": "2dde86c7",
   "metadata": {},
   "outputs": [],
   "source": []
  },
  {
   "cell_type": "code",
   "execution_count": null,
   "id": "ac5b818f",
   "metadata": {},
   "outputs": [],
   "source": []
  },
  {
   "cell_type": "code",
   "execution_count": null,
   "id": "f43f40ac",
   "metadata": {},
   "outputs": [],
   "source": []
  },
  {
   "cell_type": "code",
   "execution_count": null,
   "id": "c209a769",
   "metadata": {},
   "outputs": [],
   "source": []
  },
  {
   "cell_type": "code",
   "execution_count": null,
   "id": "898baf97",
   "metadata": {},
   "outputs": [],
   "source": []
  },
  {
   "cell_type": "code",
   "execution_count": null,
   "id": "84a5aed3",
   "metadata": {},
   "outputs": [],
   "source": []
  },
  {
   "cell_type": "code",
   "execution_count": null,
   "id": "35e4f91e",
   "metadata": {},
   "outputs": [],
   "source": []
  },
  {
   "cell_type": "code",
   "execution_count": null,
   "id": "c6f99fbf",
   "metadata": {},
   "outputs": [],
   "source": []
  },
  {
   "cell_type": "code",
   "execution_count": null,
   "id": "e970bdc2",
   "metadata": {},
   "outputs": [],
   "source": []
  },
  {
   "cell_type": "code",
   "execution_count": null,
   "id": "279232cf",
   "metadata": {},
   "outputs": [],
   "source": []
  },
  {
   "cell_type": "code",
   "execution_count": null,
   "id": "00e4f56c",
   "metadata": {},
   "outputs": [],
   "source": []
  },
  {
   "cell_type": "code",
   "execution_count": null,
   "id": "f60a7248",
   "metadata": {},
   "outputs": [],
   "source": []
  },
  {
   "cell_type": "code",
   "execution_count": null,
   "id": "00c4f719",
   "metadata": {},
   "outputs": [],
   "source": []
  }
 ],
 "metadata": {
  "kernelspec": {
   "display_name": "Python 3 (ipykernel)",
   "language": "python",
   "name": "python3"
  },
  "language_info": {
   "codemirror_mode": {
    "name": "ipython",
    "version": 3
   },
   "file_extension": ".py",
   "mimetype": "text/x-python",
   "name": "python",
   "nbconvert_exporter": "python",
   "pygments_lexer": "ipython3",
   "version": "3.9.7"
  }
 },
 "nbformat": 4,
 "nbformat_minor": 5
}
