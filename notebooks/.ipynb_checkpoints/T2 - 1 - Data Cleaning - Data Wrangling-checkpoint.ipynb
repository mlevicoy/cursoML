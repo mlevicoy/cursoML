{
 "cells": [
  {
   "cell_type": "code",
   "execution_count": null,
   "id": "bc29b23e",
   "metadata": {},
   "outputs": [],
   "source": [
    "import pandas as pd"
   ]
  },
  {
   "cell_type": "code",
   "execution_count": null,
   "id": "3a40ccf4",
   "metadata": {},
   "outputs": [],
   "source": [
    "data = pd.read_csv(\"../datasets/customer-churn-model/Customer Churn Model.txt\")\n",
    "data.head()"
   ]
  },
  {
   "cell_type": "markdown",
   "id": "0b167a06",
   "metadata": {},
   "source": [
    "### Crear un subconjunto de datos"
   ]
  },
  {
   "cell_type": "code",
   "execution_count": null,
   "id": "52426b80",
   "metadata": {},
   "outputs": [],
   "source": [
    "# Buscar cuantas filas tiene una determinada columna de un dataset\n",
    "account_length = data[\"Account Length\"]\n",
    "account_length.head()"
   ]
  },
  {
   "cell_type": "code",
   "execution_count": null,
   "id": "cc9f263d",
   "metadata": {},
   "outputs": [],
   "source": [
    "len(account_length.index)"
   ]
  },
  {
   "cell_type": "code",
   "execution_count": null,
   "id": "72bc39ce",
   "metadata": {},
   "outputs": [],
   "source": [
    "# Cuando se extrea una columna, no genera un data set, sino un Series\n",
    "type(account_length)"
   ]
  },
  {
   "cell_type": "code",
   "execution_count": null,
   "id": "111cb2c8",
   "metadata": {},
   "outputs": [],
   "source": [
    "# Para extraer multiples columnas se usa doble corchete\n",
    "subset = data[[\"Account Length\", \"Phone\", \"Eve Charge\", \"Day Calls\"]]\n",
    "subset.head()"
   ]
  },
  {
   "cell_type": "code",
   "execution_count": null,
   "id": "1a07823b",
   "metadata": {},
   "outputs": [],
   "source": [
    "# Cuando son varias columnas si se extrae como DataFrame\n",
    "type(subset)"
   ]
  },
  {
   "cell_type": "code",
   "execution_count": null,
   "id": "8d77b493",
   "metadata": {},
   "outputs": [],
   "source": [
    "# Se puede pasar una lista con las columnas a extraer\n",
    "desired_columns = [\"Account Length\", \"Phone\", \"Eve Charge\", \"Night Calls\"]\n",
    "subset = data[desired_columns]\n",
    "subset.head()"
   ]
  },
  {
   "cell_type": "code",
   "execution_count": null,
   "id": "550c3f08",
   "metadata": {},
   "outputs": [],
   "source": [
    "# El truco es generar la lista más pequeña y con un bucle extraer las que \n",
    "# queremos. ejemplo\n",
    "# Esta no las quiero\n",
    "desired_columns = [\"Account Length\", \"Phone\", \"Eve Charge\", \"Night Calls\"]\n",
    "desired_columns"
   ]
  },
  {
   "cell_type": "code",
   "execution_count": null,
   "id": "c025ab48",
   "metadata": {},
   "outputs": [],
   "source": [
    "# Todas las columnas en una lista\n",
    "all_columns_list = data.columns.values.tolist()\n",
    "all_columns_list"
   ]
  },
  {
   "cell_type": "code",
   "execution_count": null,
   "id": "da83d0a1",
   "metadata": {},
   "outputs": [],
   "source": [
    "# Con un bucle eliminamos\n",
    "sublist = [x for x in all_columns_list if x not in desired_columns]\n",
    "sublist"
   ]
  },
  {
   "cell_type": "code",
   "execution_count": null,
   "id": "d0116823",
   "metadata": {},
   "outputs": [],
   "source": [
    "subset = data[sublist]\n",
    "subset.head()"
   ]
  },
  {
   "cell_type": "code",
   "execution_count": null,
   "id": "a4280410",
   "metadata": {},
   "outputs": [],
   "source": [
    "a = set(desired_columns)"
   ]
  },
  {
   "cell_type": "code",
   "execution_count": null,
   "id": "c038a2ed",
   "metadata": {},
   "outputs": [],
   "source": [
    "b = set(all_columns_list)"
   ]
  },
  {
   "cell_type": "code",
   "execution_count": null,
   "id": "0d89c62b",
   "metadata": {},
   "outputs": [],
   "source": [
    "sublist2 = b-a"
   ]
  },
  {
   "cell_type": "code",
   "execution_count": null,
   "id": "f9b98199",
   "metadata": {},
   "outputs": [],
   "source": [
    "sublist2 = list(sublist2)"
   ]
  },
  {
   "cell_type": "code",
   "execution_count": null,
   "id": "798d7310",
   "metadata": {},
   "outputs": [],
   "source": [
    "sublist2"
   ]
  },
  {
   "cell_type": "code",
   "execution_count": null,
   "id": "d4738da3",
   "metadata": {},
   "outputs": [],
   "source": [
    "# Subconjunto de filas \n",
    "\n",
    "# Se toma el primer elemento, pero el último no.\n",
    "# muestra desde el 1 al 9\n",
    "data[1:10]"
   ]
  },
  {
   "cell_type": "code",
   "execution_count": null,
   "id": "5e6b51ca",
   "metadata": {},
   "outputs": [],
   "source": [
    "# Como toma el primer elemento se puede hacer así\n",
    "data[:10]"
   ]
  },
  {
   "cell_type": "code",
   "execution_count": null,
   "id": "9b82b503",
   "metadata": {},
   "outputs": [],
   "source": [
    "# Tambien se puede hacer, desde la fila 20 al final\n",
    "data[20:]"
   ]
  },
  {
   "cell_type": "code",
   "execution_count": null,
   "id": "100c3727",
   "metadata": {},
   "outputs": [],
   "source": [
    "# Filtramos con alguna condición"
   ]
  },
  {
   "cell_type": "code",
   "execution_count": null,
   "id": "dfd6cb28",
   "metadata": {},
   "outputs": [],
   "source": [
    "# Filas con minutos mayores a 300\n",
    "data1 = data[data[\"Day Mins\"] > 300]\n",
    "data1"
   ]
  },
  {
   "cell_type": "code",
   "execution_count": null,
   "id": "ee9da009",
   "metadata": {},
   "outputs": [],
   "source": [
    "# Usuarios de Nueva York (State = \"NY\")\n",
    "data2 = data[data[\"State\"] == \"NY\"]\n",
    "data2"
   ]
  },
  {
   "cell_type": "code",
   "execution_count": null,
   "id": "4b9c1fce",
   "metadata": {},
   "outputs": [],
   "source": [
    " # and -> &, or -> |"
   ]
  },
  {
   "cell_type": "code",
   "execution_count": null,
   "id": "1a7a76af",
   "metadata": {},
   "outputs": [],
   "source": [
    "data3 = data[(data[\"Day Mins\"] > 300) & (data[\"State\"] == \"NY\")]\n",
    "data3"
   ]
  },
  {
   "cell_type": "code",
   "execution_count": null,
   "id": "4126e7b8",
   "metadata": {},
   "outputs": [],
   "source": [
    "data4 = data[(data[\"Day Mins\"] > 300) | (data[\"State\"] == \"NY\")]\n",
    "data4"
   ]
  },
  {
   "cell_type": "code",
   "execution_count": null,
   "id": "faafe78b",
   "metadata": {},
   "outputs": [],
   "source": [
    "data5 = data[data[\"Day Calls\"] < data[\"Night Calls\"]]\n",
    "data5.shape\n",
    "# Esto da a entender que en 1626 ocaciones se llama más de noche que de día"
   ]
  },
  {
   "cell_type": "code",
   "execution_count": null,
   "id": "e39aba17",
   "metadata": {},
   "outputs": [],
   "source": []
  },
  {
   "cell_type": "code",
   "execution_count": null,
   "id": "8313e0de",
   "metadata": {},
   "outputs": [],
   "source": [
    "# Minutos del día, de noche y longitud de cuenta de los primeros 50 individuos\n",
    "subset_first_50 = data[[\"Day Mins\", \"Night Mins\", \"Account Length\"]][:50]\n",
    "subset_first_50.shape"
   ]
  },
  {
   "cell_type": "code",
   "execution_count": null,
   "id": "8394bc1f",
   "metadata": {},
   "outputs": [],
   "source": [
    "# loc e iloc\n",
    "# iloc selecciona en base a su ubicación\n",
    "# loc selecciona filas o colum en base a su etiqueta\n",
    "data.iloc[1:10, [2,5,7]]"
   ]
  },
  {
   "cell_type": "code",
   "execution_count": null,
   "id": "86874a83",
   "metadata": {},
   "outputs": [],
   "source": [
    "data.iloc[[1,5,8,36], [2,5,7]]"
   ]
  },
  {
   "cell_type": "code",
   "execution_count": null,
   "id": "eb935eb0",
   "metadata": {},
   "outputs": [],
   "source": [
    "data.loc[[1,5,8,36], [\"Area Code\", \"VMail Plan\", \"Day Mins\"]]"
   ]
  },
  {
   "cell_type": "code",
   "execution_count": null,
   "id": "585121c1",
   "metadata": {},
   "outputs": [],
   "source": [
    "# Creamos una columna nueva con la operaciones de 3 existentes\n",
    "data[\"Total Mins\"] = data[\"Day Mins\"] + data[\"Night Mins\"] + data[\"Eve Mins\"]"
   ]
  },
  {
   "cell_type": "code",
   "execution_count": null,
   "id": "66d4e405",
   "metadata": {},
   "outputs": [],
   "source": [
    "data[\"Total Mins\"].head()"
   ]
  },
  {
   "cell_type": "code",
   "execution_count": null,
   "id": "0be96871",
   "metadata": {},
   "outputs": [],
   "source": [
    "data[\"Total Calls\"] = data[\"Day Calls\"] + data[\"Night Calls\"] + data[\"Eve Calls\"]"
   ]
  },
  {
   "cell_type": "code",
   "execution_count": null,
   "id": "6d3f6b3d",
   "metadata": {},
   "outputs": [],
   "source": [
    "data[\"Total Calls\"].head()"
   ]
  },
  {
   "cell_type": "markdown",
   "id": "aeb5f636",
   "metadata": {},
   "source": [
    "### Generación de números aleatorios"
   ]
  },
  {
   "cell_type": "code",
   "execution_count": 1,
   "id": "49c06073",
   "metadata": {},
   "outputs": [],
   "source": [
    "import numpy as np"
   ]
  },
  {
   "cell_type": "code",
   "execution_count": 2,
   "id": "79a777f4",
   "metadata": {},
   "outputs": [
    {
     "data": {
      "text/plain": [
       "71"
      ]
     },
     "execution_count": 2,
     "metadata": {},
     "output_type": "execute_result"
    }
   ],
   "source": [
    "# Ej. generar número aleatorio entre 1 y 100\n",
    "np.random.randint(1, 100)"
   ]
  },
  {
   "cell_type": "code",
   "execution_count": 3,
   "id": "4f06e063",
   "metadata": {},
   "outputs": [
    {
     "data": {
      "text/plain": [
       "0.754884555912967"
      ]
     },
     "execution_count": 3,
     "metadata": {},
     "output_type": "execute_result"
    }
   ],
   "source": [
    "# La forma clasica es generar una número aleatorio entre 0 y 1 (decimales)\n",
    "np.random.random()"
   ]
  },
  {
   "cell_type": "code",
   "execution_count": 4,
   "id": "62f65197",
   "metadata": {},
   "outputs": [],
   "source": [
    "# Función que genera n números aleatorios entre un rango a, b\n",
    "def randint_list(n, a, b):\n",
    "    ## generamos array vacio \n",
    "    x = []\n",
    "    ## range genera una lista de 0 a n, es decir, \n",
    "    ## gracias al range el for recorre desde el 0 a n\n",
    "    for i in range(n):\n",
    "        x.append(np.random.randint(a, b))\n",
    "    return x"
   ]
  },
  {
   "cell_type": "code",
   "execution_count": 5,
   "id": "9a31ee5e",
   "metadata": {},
   "outputs": [
    {
     "data": {
      "text/plain": [
       "[24,\n",
       " 17,\n",
       " 27,\n",
       " 27,\n",
       " 12,\n",
       " 38,\n",
       " 24,\n",
       " 6,\n",
       " 35,\n",
       " 48,\n",
       " 7,\n",
       " 17,\n",
       " 12,\n",
       " 24,\n",
       " 24,\n",
       " 10,\n",
       " 30,\n",
       " 23,\n",
       " 48,\n",
       " 17,\n",
       " 0,\n",
       " 28,\n",
       " 26,\n",
       " 9,\n",
       " 19]"
      ]
     },
     "execution_count": 5,
     "metadata": {},
     "output_type": "execute_result"
    }
   ],
   "source": [
    "randint_list(25, 0, 50)"
   ]
  },
  {
   "cell_type": "code",
   "execution_count": 6,
   "id": "4dcfe08b",
   "metadata": {},
   "outputs": [
    {
     "name": "stdout",
     "output_type": "stream",
     "text": [
      "91\n",
      "14\n",
      "14\n",
      "91\n",
      "35\n",
      "84\n",
      "77\n",
      "21\n",
      "63\n",
      "14\n"
     ]
    }
   ],
   "source": [
    "# El método randrange hace lo mismo que la función anterior\n",
    "import random\n",
    "for i in range(10):\n",
    "    # genera multiplos de 7 entre 0 a 100\n",
    "    print(random.randrange(0, 100, 7))"
   ]
  },
  {
   "cell_type": "code",
   "execution_count": null,
   "id": "41770e1c",
   "metadata": {},
   "outputs": [],
   "source": []
  }
 ],
 "metadata": {
  "kernelspec": {
   "display_name": "Python 3 (ipykernel)",
   "language": "python",
   "name": "python3"
  },
  "language_info": {
   "codemirror_mode": {
    "name": "ipython",
    "version": 3
   },
   "file_extension": ".py",
   "mimetype": "text/x-python",
   "name": "python",
   "nbconvert_exporter": "python",
   "pygments_lexer": "ipython3",
   "version": "3.9.7"
  }
 },
 "nbformat": 4,
 "nbformat_minor": 5
}
